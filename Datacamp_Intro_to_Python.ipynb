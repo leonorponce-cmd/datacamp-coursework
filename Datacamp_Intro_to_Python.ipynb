{
  "nbformat": 4,
  "nbformat_minor": 0,
  "metadata": {
    "colab": {
      "name": "Datacamp - Intro to Python",
      "provenance": [],
      "authorship_tag": "ABX9TyNqh1m5cmPsxsqgaU6+TdkG",
      "include_colab_link": true
    },
    "kernelspec": {
      "name": "python3",
      "display_name": "Python 3"
    },
    "language_info": {
      "name": "python"
    }
  },
  "cells": [
    {
      "cell_type": "markdown",
      "metadata": {
        "id": "view-in-github",
        "colab_type": "text"
      },
      "source": [
        "<a href=\"https://colab.research.google.com/github/leonorponce-cmd/datacamp-coursework/blob/main/Datacamp_Intro_to_Python.ipynb\" target=\"_parent\"><img src=\"https://colab.research.google.com/assets/colab-badge.svg\" alt=\"Open In Colab\"/></a>"
      ]
    },
    {
      "cell_type": "code",
      "metadata": {
        "id": "9O1QDiOWbAY0"
      },
      "source": [
        "regular structure= i.e. each row and column has a fixed number of values"
      ],
      "execution_count": null,
      "outputs": []
    },
    {
      "cell_type": "code",
      "metadata": {
        "id": "RWsYG3WVb8OT"
      },
      "source": [
        "# row, col\n",
        "np_x[:,0]"
      ],
      "execution_count": null,
      "outputs": []
    },
    {
      "cell_type": "code",
      "metadata": {
        "id": "kRey-DcBcDpQ"
      },
      "source": [
        "vocab\n",
        "slicing =\n",
        "vector\n",
        "dimension\n",
        "IPython shell\n",
        "correlation\n",
        "covariance\n",
        "standard deviation\n",
        "distribution\n",
        "return function\n",
        "element in the list  "
      ],
      "execution_count": null,
      "outputs": []
    },
    {
      "cell_type": "code",
      "metadata": {
        "id": "_oxeWswlcMNO"
      },
      "source": [
        "Converting a python list to a 2D array had the following benefits:\n"
      ],
      "execution_count": null,
      "outputs": []
    },
    {
      "cell_type": "code",
      "metadata": {
        "id": "Ps6sCmuscZN7"
      },
      "source": [
        "You can combine matrices with single numbers, with vectors, and with other matrices."
      ],
      "execution_count": null,
      "outputs": []
    },
    {
      "cell_type": "code",
      "metadata": {
        "id": "M_e3Ak1ig0dw"
      },
      "source": [
        "Generating Summary statistics"
      ],
      "execution_count": null,
      "outputs": []
    },
    {
      "cell_type": "code",
      "metadata": {
        "id": "roBxOTqJuO5J"
      },
      "source": [
        ""
      ],
      "execution_count": null,
      "outputs": []
    },
    {
      "cell_type": "markdown",
      "metadata": {
        "id": "TUcEGpSFhiV0"
      },
      "source": [
        ""
      ]
    },
    {
      "cell_type": "markdown",
      "metadata": {
        "id": "v2EScrYug7BH"
      },
      "source": [
        ""
      ]
    },
    {
      "cell_type": "code",
      "metadata": {
        "id": "vsfiWsp5hrhu"
      },
      "source": [
        "Numpy calc speed benefits bc = it stores a single datatype in an array\n",
        "\n"
      ],
      "execution_count": null,
      "outputs": []
    },
    {
      "cell_type": "code",
      "metadata": {
        "id": "sZxLmAdwh9w4"
      },
      "source": [
        "Built-In Functions \n",
        "np.column_stack =pastes two columns together \n"
      ],
      "execution_count": null,
      "outputs": []
    },
    {
      "cell_type": "code",
      "metadata": {
        "colab": {
          "base_uri": "https://localhost:8080/"
        },
        "id": "zsexf81giTG8",
        "outputId": "3436cd51-83fa-4b3c-bff0-bbf55cc97223"
      },
      "source": [
        "import numpy as np\n",
        "x = [1, 4, 8, 10, 12]\n",
        "print(np.mean(x))\n",
        "np.median(x)"
      ],
      "execution_count": 5,
      "outputs": [
        {
          "output_type": "stream",
          "text": [
            "7.0\n"
          ],
          "name": "stdout"
        },
        {
          "output_type": "execute_result",
          "data": {
            "text/plain": [
              "8.0"
            ]
          },
          "metadata": {
            "tags": []
          },
          "execution_count": 5
        }
      ]
    },
    {
      "cell_type": "code",
      "metadata": {
        "id": "cge_KHFZmN9z"
      },
      "source": [
        "Review these ecercises from different angles:\n",
        "\n",
        "explore the baseball data\n",
        "type: NormalExercise\n",
        "key: 4409948807\n",
        "lang: python\n",
        "xp: 100\n",
        "skills: 2\n",
        "\n",
        "_________\n",
        "\n",
        "Blend it all together\n"
      ],
      "execution_count": null,
      "outputs": []
    }
  ]
}